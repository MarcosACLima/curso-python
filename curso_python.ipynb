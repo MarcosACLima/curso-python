{
  "nbformat": 4,
  "nbformat_minor": 0,
  "metadata": {
    "colab": {
      "name": "curso_python.ipynb",
      "provenance": [],
      "collapsed_sections": [],
      "authorship_tag": "ABX9TyMNhGUJf/S9vMjSOsB9Eh+g",
      "include_colab_link": true
    },
    "kernelspec": {
      "name": "python3",
      "display_name": "Python 3"
    }
  },
  "cells": [
    {
      "cell_type": "markdown",
      "metadata": {
        "id": "view-in-github",
        "colab_type": "text"
      },
      "source": [
        "<a href=\"https://colab.research.google.com/github/MarcosACLima/curso-python/blob/main/curso_python.ipynb\" target=\"_parent\"><img src=\"https://colab.research.google.com/assets/colab-badge.svg\" alt=\"Open In Colab\"/></a>"
      ]
    },
    {
      "cell_type": "code",
      "metadata": {
        "id": "o2Jn2EHB8alx",
        "colab": {
          "base_uri": "https://localhost:8080/"
        },
        "outputId": "6ab13eb6-680f-48c7-e28d-92c698b76181"
      },
      "source": [
        "print (\"ola mundo\")\n",
        "print (\"Olá mundo 2\")"
      ],
      "execution_count": 1,
      "outputs": [
        {
          "output_type": "stream",
          "name": "stdout",
          "text": [
            "ola mundo\n",
            "Olá mundo 2\n"
          ]
        }
      ]
    },
    {
      "cell_type": "code",
      "metadata": {
        "id": "QSEZ5_6j8sv8"
      },
      "source": [
        "import matplotlib.pyplot as plt\n"
      ],
      "execution_count": 2,
      "outputs": []
    },
    {
      "cell_type": "code",
      "metadata": {
        "id": "NIdDMrE-9OB2",
        "colab": {
          "base_uri": "https://localhost:8080/"
        },
        "outputId": "136a2af3-860e-4b49-d4ff-4f592f1ffa55"
      },
      "source": [
        "# Isto é um comentário\n",
        "print(\"Outra mensagem\")\n",
        "print(\"Mensagem 3\")"
      ],
      "execution_count": 3,
      "outputs": [
        {
          "output_type": "stream",
          "name": "stdout",
          "text": [
            "Outra mensagem\n",
            "Mensagem 3\n"
          ]
        }
      ]
    },
    {
      "cell_type": "code",
      "metadata": {
        "id": "cVAyxANS_wtJ"
      },
      "source": [
        "# -*- coding: utf-8 -*-"
      ],
      "execution_count": null,
      "outputs": []
    },
    {
      "cell_type": "code",
      "metadata": {
        "id": "HxDBFEXIuRQ8",
        "colab": {
          "base_uri": "https://localhost:8080/",
          "height": 85
        },
        "outputId": "c7c06ca4-8877-4cc2-dcff-7c6d0974aa0e"
      },
      "source": [
        "print (2+2)\n",
        "print(8/4)\n",
        "print (2**3) # exponenciação\n",
        "print(10 % 3) # modulo, resto"
      ],
      "execution_count": null,
      "outputs": [
        {
          "output_type": "stream",
          "text": [
            "4\n",
            "2.0\n",
            "8\n",
            "1\n"
          ],
          "name": "stdout"
        }
      ]
    },
    {
      "cell_type": "code",
      "metadata": {
        "id": "40uLM_nkvgtx",
        "colab": {
          "base_uri": "https://localhost:8080/",
          "height": 153
        },
        "outputId": "5f35b2e0-1590-4d81-9e8c-c78fd819e5f5"
      },
      "source": [
        "# variaveis \n",
        "mensagem = \"Olá mundo\"\n",
        "print (mensagem)\n",
        "print(mensagem)\n",
        "print(mensagem)\n",
        "# python case sensitive\n",
        "Mensagem = \"oLá MunDo\"\n",
        "print(Mensagem)\n",
        "\n",
        "var1 = 1  # variavel inteira\n",
        "var2 = 1.2 # float \n",
        "var3 = \"Eu sou uma string\"\n",
        "var4 = True\n",
        "var4 = False\n",
        "\n",
        "print(var1)\n",
        "print(var2)\n",
        "print(var3)\n",
        "print(var4)\n",
        "\n"
      ],
      "execution_count": null,
      "outputs": [
        {
          "output_type": "stream",
          "text": [
            "Olá mundo\n",
            "Olá mundo\n",
            "Olá mundo\n",
            "oLá MunDo\n",
            "1\n",
            "1.2\n",
            "Eu sou uma string\n",
            "False\n"
          ],
          "name": "stdout"
        }
      ]
    },
    {
      "cell_type": "code",
      "metadata": {
        "id": "eCTKSZ8Y3Tjo",
        "colab": {
          "base_uri": "https://localhost:8080/",
          "height": 68
        },
        "outputId": "d37b7aec-2e73-497c-b38e-cc05f297f5f6"
      },
      "source": [
        "# operador atribuição =\n",
        "# Operadores relacionais \n",
        "x = 2 \n",
        "y = 3 \n",
        "print(x == y)\n",
        "print(x < y)\n",
        "\n",
        "soma = x + y\n",
        "print(soma == y)"
      ],
      "execution_count": null,
      "outputs": [
        {
          "output_type": "stream",
          "text": [
            "False\n",
            "True\n",
            "False\n"
          ],
          "name": "stdout"
        }
      ]
    },
    {
      "cell_type": "code",
      "metadata": {
        "id": "8Sx9eOtb4HZA"
      },
      "source": [
        "# Operadores lógicos \n",
        "\n"
      ],
      "execution_count": null,
      "outputs": []
    },
    {
      "cell_type": "code",
      "metadata": {
        "id": "1zZgsmlY4gc2",
        "colab": {
          "base_uri": "https://localhost:8080/",
          "height": 68
        },
        "outputId": "678c5d04-3cc8-4453-e906-d2f83c4a6be2"
      },
      "source": [
        "# operador atribuição =\n",
        "# Operadores relacionais \n",
        "x = 3 \n",
        "y = 3 \n",
        "z = 4\n",
        "print(x == y and x == z)\n",
        "print(x == y or x == z)\n",
        "print(x == y or x == z and z == y)\n",
        "\n"
      ],
      "execution_count": null,
      "outputs": [
        {
          "output_type": "stream",
          "text": [
            "False\n",
            "True\n",
            "True\n"
          ],
          "name": "stdout"
        }
      ]
    },
    {
      "cell_type": "code",
      "metadata": {
        "id": "An97WYzp6nsa",
        "colab": {
          "base_uri": "https://localhost:8080/",
          "height": 51
        },
        "outputId": "e41b9db7-452d-4f60-a78e-96ff25534914"
      },
      "source": [
        "# Comandos condicional if\n",
        "x = 1002\n",
        "y = 1002\n",
        "\n",
        "if x > y:\n",
        "  print(\"x maior qye y\")\n",
        "elif y > x:\n",
        "  print(\"y maior que x\")\n",
        "else:\n",
        "  print(\"iguais\")\n",
        "\n",
        "a = 7\n",
        "b = -21\n",
        "\n",
        "if b > a:\n",
        "  if b > 0:\n",
        "    print (\"b maior que a\\n b é positivo\")\n",
        "  else:\n",
        "    print(\"b não é maior que a nem positivo\")\n",
        "else:\n",
        "  print(\"b menor que a\")"
      ],
      "execution_count": null,
      "outputs": [
        {
          "output_type": "stream",
          "text": [
            "iguais\n",
            "b menor que a\n"
          ],
          "name": "stdout"
        }
      ]
    },
    {
      "cell_type": "code",
      "metadata": {
        "id": "5ODbdGtp_1Le",
        "colab": {
          "base_uri": "https://localhost:8080/",
          "height": 170
        },
        "outputId": "8536fdad-9bf0-4000-f8d8-c24144ca3fac"
      },
      "source": [
        "# Laço de repetição while\n",
        "x = 1 \n",
        "\n",
        "while x < 10:\n",
        "  print(x)\n",
        "  x+=1"
      ],
      "execution_count": null,
      "outputs": [
        {
          "output_type": "stream",
          "text": [
            "1\n",
            "2\n",
            "3\n",
            "4\n",
            "5\n",
            "6\n",
            "7\n",
            "8\n",
            "9\n"
          ],
          "name": "stdout"
        }
      ]
    },
    {
      "cell_type": "code",
      "metadata": {
        "id": "FiB16Uxo-3Dp",
        "colab": {
          "base_uri": "https://localhost:8080/",
          "height": 255
        },
        "outputId": "adbb602f-feb8-461f-e661-7d29df773e1c"
      },
      "source": [
        "# laço de repetição for\n",
        "lista1 = [1,2,3,4,5]\n",
        "lista2 = [\"ola\", \"mundo\", \"!\"]\n",
        "lista3 = [0, \"ola\", \"biscoito\", \"bolacha\", 9.99, True]\n",
        "\n",
        "for i in lista1:\n",
        "  print(i)\n",
        "\n",
        "for i in lista2: \n",
        "  print(i)\n",
        "\n",
        "for i in lista3: \n",
        "  print(i)"
      ],
      "execution_count": null,
      "outputs": [
        {
          "output_type": "stream",
          "text": [
            "1\n",
            "2\n",
            "3\n",
            "4\n",
            "5\n",
            "ola\n",
            "mundo\n",
            "!\n",
            "0\n",
            "ola\n",
            "biscoito\n",
            "bolacha\n",
            "9.99\n",
            "True\n"
          ],
          "name": "stdout"
        }
      ]
    },
    {
      "cell_type": "code",
      "metadata": {
        "id": "KIGYic5k72j7",
        "colab": {
          "base_uri": "https://localhost:8080/"
        },
        "outputId": "4fecc4f1-9af2-4cef-e40f-2caa689396ee"
      },
      "source": [
        "# Comandor for e range \n",
        "# for i in range(10):\n",
        "# for i in range(10,20):\n",
        "\n",
        "for i in range(10,20,2):\n",
        "  print(i)"
      ],
      "execution_count": 4,
      "outputs": [
        {
          "output_type": "stream",
          "name": "stdout",
          "text": [
            "10\n",
            "12\n",
            "14\n",
            "16\n",
            "18\n"
          ]
        }
      ]
    },
    {
      "cell_type": "code",
      "metadata": {
        "id": "_T-RlutpFEHD",
        "colab": {
          "base_uri": "https://localhost:8080/"
        },
        "outputId": "089e9450-09d3-4853-be7f-40e774eafa17"
      },
      "source": [
        "# strings \n",
        "var1 = \"Marcos\"\n",
        "var2 = \"Lima\"\n",
        "\n",
        "concatenar = var1 + var2\n",
        "print(concatenar)"
      ],
      "execution_count": 6,
      "outputs": [
        {
          "output_type": "stream",
          "name": "stdout",
          "text": [
            "MarcosLima\n"
          ]
        }
      ]
    }
  ]
}